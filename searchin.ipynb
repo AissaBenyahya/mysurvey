{
 "cells": [
  {
   "cell_type": "code",
   "execution_count": 1,
   "metadata": {},
   "outputs": [],
   "source": [
    "import re\n",
    "import json\n",
    "from selenium import webdriver\n",
    "from selenium.webdriver.chrome.service import Service\n",
    "from bs4 import BeautifulSoup\n",
    "from pyvirtualdisplay import Display\n",
    "import csv\n",
    "\n",
    "#---------------------- ----------------------------- -------------\n",
    "# Prevent chrome browser from opening while browsing \n",
    "display = Display(visible=0, size=(800, 600))\n",
    "display.start()\n",
    "# Set up webdriver with chrome engine \n",
    "s=Service(\"/home/revo/chromedriver/chromedriver\")\n",
    "driver = webdriver.Chrome(service=s)\n",
    "#driver = webdriver.Chrome(\"/home/revo/chromedriver/chromedriver\")\n",
    "\n",
    "#----------------------------------------------------------------------------\n",
    "\n",
    "# IIoT devices manufacturing companies\n",
    "iiot_list = ('Linx', 'Johnson', 'GridConnect', 'Impinj')\n",
    "\n",
    "# WSN devices\n",
    "wsn_list =  {'ANT', 'WiSense', 'AquisGrain', 'Arduino BT', 'AS-XM1000', 'AVRaven', 'AWAIRS1', 'BEAN', 'BPart', 'BSN Node v2', 'BSN Node v3', 'BTnode', 'BTnode rev3', 'CENS Medusa MK2', 'CIT', 'CoSeN', 'Cricket', 'Dalian', 'Dot', 'DSRPN', 'DSYS25', 'Egs', 'Ember', 'EmberNet', 'EnOcean', 'TCM120', 'ENS', 'EPIC', 'e-Watch', 'eXtreme', 'EYES', 'eyesIFXv2.1', 'FemtoNode', 'XSM', 'FireFly', 'FireFly3', 'Fleck', 'G-Node', 'GWNode', 'Hermes', 'Hogthrob', 'iBadge', 'iCubes', 'IECAS', 'iMote1', 'iMote2', 'Indriya_DP_01A11', 'Indriya_DP_03A14', 'Indriya_DP_03A20', 'Iris', 'iSense', 'JN5121', 'Kmote-B', 'LEAP', 'Lotus', 'LTC5800-WHM', 'LTP5900-WHM', 'LTP5901-WHM', 'LTP5902-WHM', 'M12', 'Mantis', 'Nymph', 'MASN', 'MediMesh', 'Mica', 'Mica2', 'Mica2Dot', 'MicaZ', 'Micromote', 'MITes', 'Monnit Wit', 'mPlatform', 'MTM-CM3000-MSP', 'MTM-CM3300-MSP', 'MTM-CM4000-MSP', 'Mulle', 'panStamp'}\n",
    "\n",
    "# ICS devices manufacturing companies\n",
    "ics_list = ('GE Digital', 'Bosch', 'Siemens', 'Mitsubishi', 'Schneider', 'ABB', 'Schweitzer', 'General Electric', 'Wind River')\n",
    "\n",
    "# IoT devices manufacturing companies\n",
    "iot_list = ('Amazon Echo', 'Google Home', 'Verizon', 'digi', 'Particle', 'SmartCare', 'Edimax', 'ZigBee', 'Z-Wave', 'E2 Max', 'E7 Beacon', 'P1 Plus', 'August Doorbell', 'August Smart', 'Kuri Mobile', 'Belkin WeMo', 'Footbot Air', 'Nest Smoke', 'Nest T3021US', 'Philips Hue', 'Bitdefender BOX', 'Ring Doorbell', 'WeMo Insight', 'Logitech Harmony', 'Particle Photon', 'NETGEAR Orbi', 'Canary', 'Cinder', 'Nespresso Prodigio', 'Netatmo', 'Samsung SmartThings', 'Sonos', 'Wink', 'Apple Watch', 'Garmin Forerunner', 'Peloton', 'Google Cardboard', 'Samsung Gear')\n",
    "\n",
    "embedded_systems = iiot_list+ics_list+iot_list\n",
    "embedded_iot = iot_list\n",
    "embedded_ics = ics_list\n",
    "embedded_iiot = iiot_list\n",
    "\n",
    "cve_pointer = \"\" # Points to the CVE where the word is found\n",
    "index = 0 # The line where the word is found in the CVE description\n",
    "cves = {} # Stores the found CVEs using the word lists\n",
    "vlist = {} # Stores the word and the line number where it found in CVE database\n",
    "count = 0\n",
    "CVEList = {} # Contains the unique CVEs our goal list but the serial number is in a form 'Name: CVE-?????'\n",
    "cvess = [] # Contains the CVE serial number  in a form 'CVE-????'\n",
    "delim = '======================================================' # The delimiter between cves\n",
    "cvecount = 0 # Number of exist CVEs from 2015 to 2021\n",
    "rc = 0"
   ]
  },
  {
   "cell_type": "code",
   "execution_count": 2,
   "metadata": {},
   "outputs": [
    {
     "name": "stdout",
     "output_type": "stream",
     "text": [
      "700\n"
     ]
    }
   ],
   "source": [
    "#---------------------------------------------------------------\n",
    "with open(\"cve.txt\", \"r\") as file:\n",
    "    lines = file.readlines()\n",
    "\n",
    "    for i in range(0, len(lines)):\n",
    "        index += 1\n",
    "        if re.search(delim, lines[i]):\n",
    "            cve_pointer = lines[i+1]\n",
    "            cvecount += 1\n",
    "        for word in embedded_systems:\n",
    "            if re.search(\"Reference:\", lines[i]):\n",
    "                rc += 1\n",
    "                break                   \n",
    "            elif re.search(r'\\b'+word+r'\\b', lines[i]):\n",
    "                vlist[index] = word\n",
    "                # Store CVES in cves array\n",
    "                cves[index] = cve_pointer\n",
    "                break\n",
    "#print(cvecount)\n",
    "print(len(cves))"
   ]
  },
  {
   "cell_type": "code",
   "execution_count": 3,
   "metadata": {},
   "outputs": [
    {
     "name": "stdout",
     "output_type": "stream",
     "text": [
      "600\n"
     ]
    }
   ],
   "source": [
    "# Get ride of repetitions\n",
    "for key, value in cves.items():\n",
    "    CVEList[cves[key]] = 'A'\n",
    "print(len(CVEList))\n",
    "for i in CVEList.keys():\n",
    "    cvess.append(i[6:-1])\n",
    "\n",
    "#print(cvess)"
   ]
  },
  {
   "cell_type": "code",
   "execution_count": 5,
   "metadata": {},
   "outputs": [],
   "source": [
    "non_embedded = open(\"non_embedded.txt\", \"w+\")\n",
    "array = []\n",
    "with open(\"filtredCVEs.txt\", \"r\") as fcve:\n",
    "    ff = fcve.readlines()\n",
    "    for i in range(len(ff)):\n",
    "        array.append(ff[i].strip())\n",
    "    for entry in cvess:\n",
    "        if entry not in array:\n",
    "            non_embedded.write(entry+'\\n')"
   ]
  },
  {
   "cell_type": "code",
   "execution_count": 7,
   "metadata": {},
   "outputs": [
    {
     "name": "stdout",
     "output_type": "stream",
     "text": [
      "700\n",
      "600\n"
     ]
    }
   ],
   "source": [
    "#!usr/bin/python\n",
    "\n",
    "\n",
    "\n",
    "'''for j in cvess:\n",
    "    cvelist.writelines([j, '\\n'])'''\n",
    "#=====================================================================================\n",
    "\n",
    "    #for k in exist:\n",
    "        #print(table[k])\n",
    "\n",
    "#=====================================================================================\n",
    "\n",
    "'''table = {} # Stors all exist {'CVE': 'CWE'} in the json file\n",
    "cwes = [] # Stores the CWE of only CVEs in the cvess list\n",
    "non_exist_cves = [] # Stors non-defined in NVD CWEs\n",
    "\n",
    "with open(\"nvdcve-1.1-2015.json\", \"r\") as f:\n",
    "    data = json.load(f)\n",
    "    for i in data['CVE_Items']:\n",
    "        for j in range(0, len(i['cve']['problemtype']['problemtype_data'])):\n",
    "            for k in range(0, len(i['cve']['problemtype']['problemtype_data'][j]['description'])):\n",
    "                # 'CVE':'CWE'\n",
    "                 table[i['cve']['CVE_data_meta']['ID']] = i['cve']['problemtype']['problemtype_data'][j]['description'][k]['value']\n",
    "    #print(len(table))\n",
    "    for cve in table:\n",
    "        if cve in cvess:\n",
    "            exist_cves.append(cve)\n",
    "    print(len(exist_cves))\n",
    "\n",
    "    noninfo = 0\n",
    "    for cve in cvess:\n",
    "        try:\n",
    "            cwes.append(table[cve])\n",
    "            if re.search('NVD', table[cve]):\n",
    "                noninfo += 1\n",
    "        except KeyError:\n",
    "            non_exist_cves.append(cve)\n",
    "    #print(len(cwes))\n",
    "    #print(noninfo)\n",
    "    #print(len(non_exist_cves))\n",
    "\n",
    "#=======================================================================================================================================\n",
    "\n",
    "with open('cve_cwe.csv', 'w+') as f:\n",
    "    write =  csv.writer(f)\n",
    "    for j in cvess:\n",
    "        try:\n",
    "            driver.get(\"https://cwe.mitre.org/data/definitions/\"+table[j][4:]+\".html\")\n",
    "            content = driver.page_source\n",
    "            soup = (content)\n",
    "            for div in soup.findAll('div', attrs={'style':'overflow:auto;'}):\n",
    "                write.writerow([j, div.h2.string])\n",
    "        except KeyError:BeautifulSoup\n",
    "            continue\n",
    "\n",
    "f.close()\n",
    "'''\n",
    "# Let store the CVEs in an html file to make the parsing more easier\n",
    "link = \"https://nvd.nist.gov/vuln/detail/\"\n",
    "\n",
    "arraylist = []\n",
    "htmlfile = open(\"CVEhtml.html\", \"a+\")\n",
    "for entry in cvess:\n",
    "    arraylist.append(entry)\n",
    "\n",
    "for value in arraylist:\n",
    "     htmlfile.write('<a href='+link+value+'>'+value+'</a></br>')\n",
    "\n",
    "file.close()\n",
    "\n",
    "#=========================================================================================================================================="
   ]
  },
  {
   "cell_type": "code",
   "execution_count": 7,
   "metadata": {},
   "outputs": [
    {
     "ename": "KeyError",
     "evalue": "'CWE'",
     "output_type": "error",
     "traceback": [
      "\u001b[0;31m---------------------------------------------------------------------------\u001b[0m",
      "\u001b[0;31mKeyError\u001b[0m                                  Traceback (most recent call last)",
      "\u001b[0;32m/tmp/ipykernel_3559/1217416877.py\u001b[0m in \u001b[0;36m<module>\u001b[0;34m\u001b[0m\n\u001b[1;32m      7\u001b[0m \u001b[0mdata\u001b[0m \u001b[0;34m=\u001b[0m \u001b[0mpd\u001b[0m\u001b[0;34m.\u001b[0m\u001b[0mread_csv\u001b[0m\u001b[0;34m(\u001b[0m\u001b[0;34m\"cve_cwe.csv\"\u001b[0m\u001b[0;34m)\u001b[0m\u001b[0;34m\u001b[0m\u001b[0;34m\u001b[0m\u001b[0m\n\u001b[1;32m      8\u001b[0m \u001b[0mdata\u001b[0m\u001b[0;34m.\u001b[0m\u001b[0mdescribe\u001b[0m\u001b[0;34m(\u001b[0m\u001b[0;34m)\u001b[0m\u001b[0;34m\u001b[0m\u001b[0;34m\u001b[0m\u001b[0m\n\u001b[0;32m----> 9\u001b[0;31m \u001b[0mcweplot\u001b[0m \u001b[0;34m=\u001b[0m \u001b[0mdata\u001b[0m\u001b[0;34m.\u001b[0m\u001b[0mgroupby\u001b[0m\u001b[0;34m(\u001b[0m\u001b[0;34m'CWE'\u001b[0m\u001b[0;34m)\u001b[0m\u001b[0;34m[\u001b[0m\u001b[0;34m'CVE'\u001b[0m\u001b[0;34m]\u001b[0m\u001b[0;34m.\u001b[0m\u001b[0mcount\u001b[0m\u001b[0;34m(\u001b[0m\u001b[0;34m)\u001b[0m\u001b[0;34m\u001b[0m\u001b[0;34m\u001b[0m\u001b[0m\n\u001b[0m\u001b[1;32m     10\u001b[0m \u001b[0;34m\u001b[0m\u001b[0m\n\u001b[1;32m     11\u001b[0m \u001b[0;31m#sns.factorplot(x=\"CWE\", y =\"Num\", data=data, kind=\"bar\", size=3)\u001b[0m\u001b[0;34m\u001b[0m\u001b[0;34m\u001b[0m\u001b[0m\n",
      "\u001b[0;32m~/.local/lib/python3.9/site-packages/pandas/core/frame.py\u001b[0m in \u001b[0;36mgroupby\u001b[0;34m(self, by, axis, level, as_index, sort, group_keys, squeeze, observed, dropna)\u001b[0m\n\u001b[1;32m   7629\u001b[0m         \u001b[0;31m# error: Argument \"squeeze\" to \"DataFrameGroupBy\" has incompatible type\u001b[0m\u001b[0;34m\u001b[0m\u001b[0;34m\u001b[0m\u001b[0m\n\u001b[1;32m   7630\u001b[0m         \u001b[0;31m# \"Union[bool, NoDefault]\"; expected \"bool\"\u001b[0m\u001b[0;34m\u001b[0m\u001b[0;34m\u001b[0m\u001b[0m\n\u001b[0;32m-> 7631\u001b[0;31m         return DataFrameGroupBy(\n\u001b[0m\u001b[1;32m   7632\u001b[0m             \u001b[0mobj\u001b[0m\u001b[0;34m=\u001b[0m\u001b[0mself\u001b[0m\u001b[0;34m,\u001b[0m\u001b[0;34m\u001b[0m\u001b[0;34m\u001b[0m\u001b[0m\n\u001b[1;32m   7633\u001b[0m             \u001b[0mkeys\u001b[0m\u001b[0;34m=\u001b[0m\u001b[0mby\u001b[0m\u001b[0;34m,\u001b[0m\u001b[0;34m\u001b[0m\u001b[0;34m\u001b[0m\u001b[0m\n",
      "\u001b[0;32m~/.local/lib/python3.9/site-packages/pandas/core/groupby/groupby.py\u001b[0m in \u001b[0;36m__init__\u001b[0;34m(self, obj, keys, axis, level, grouper, exclusions, selection, as_index, sort, group_keys, squeeze, observed, mutated, dropna)\u001b[0m\n\u001b[1;32m    887\u001b[0m             \u001b[0;32mfrom\u001b[0m \u001b[0mpandas\u001b[0m\u001b[0;34m.\u001b[0m\u001b[0mcore\u001b[0m\u001b[0;34m.\u001b[0m\u001b[0mgroupby\u001b[0m\u001b[0;34m.\u001b[0m\u001b[0mgrouper\u001b[0m \u001b[0;32mimport\u001b[0m \u001b[0mget_grouper\u001b[0m\u001b[0;34m\u001b[0m\u001b[0;34m\u001b[0m\u001b[0m\n\u001b[1;32m    888\u001b[0m \u001b[0;34m\u001b[0m\u001b[0m\n\u001b[0;32m--> 889\u001b[0;31m             grouper, exclusions, obj = get_grouper(\n\u001b[0m\u001b[1;32m    890\u001b[0m                 \u001b[0mobj\u001b[0m\u001b[0;34m,\u001b[0m\u001b[0;34m\u001b[0m\u001b[0;34m\u001b[0m\u001b[0m\n\u001b[1;32m    891\u001b[0m                 \u001b[0mkeys\u001b[0m\u001b[0;34m,\u001b[0m\u001b[0;34m\u001b[0m\u001b[0;34m\u001b[0m\u001b[0m\n",
      "\u001b[0;32m~/.local/lib/python3.9/site-packages/pandas/core/groupby/grouper.py\u001b[0m in \u001b[0;36mget_grouper\u001b[0;34m(obj, key, axis, level, sort, observed, mutated, validate, dropna)\u001b[0m\n\u001b[1;32m    860\u001b[0m                 \u001b[0min_axis\u001b[0m\u001b[0;34m,\u001b[0m \u001b[0mlevel\u001b[0m\u001b[0;34m,\u001b[0m \u001b[0mgpr\u001b[0m \u001b[0;34m=\u001b[0m \u001b[0;32mFalse\u001b[0m\u001b[0;34m,\u001b[0m \u001b[0mgpr\u001b[0m\u001b[0;34m,\u001b[0m \u001b[0;32mNone\u001b[0m\u001b[0;34m\u001b[0m\u001b[0;34m\u001b[0m\u001b[0m\n\u001b[1;32m    861\u001b[0m             \u001b[0;32melse\u001b[0m\u001b[0;34m:\u001b[0m\u001b[0;34m\u001b[0m\u001b[0;34m\u001b[0m\u001b[0m\n\u001b[0;32m--> 862\u001b[0;31m                 \u001b[0;32mraise\u001b[0m \u001b[0mKeyError\u001b[0m\u001b[0;34m(\u001b[0m\u001b[0mgpr\u001b[0m\u001b[0;34m)\u001b[0m\u001b[0;34m\u001b[0m\u001b[0;34m\u001b[0m\u001b[0m\n\u001b[0m\u001b[1;32m    863\u001b[0m         \u001b[0;32melif\u001b[0m \u001b[0misinstance\u001b[0m\u001b[0;34m(\u001b[0m\u001b[0mgpr\u001b[0m\u001b[0;34m,\u001b[0m \u001b[0mGrouper\u001b[0m\u001b[0;34m)\u001b[0m \u001b[0;32mand\u001b[0m \u001b[0mgpr\u001b[0m\u001b[0;34m.\u001b[0m\u001b[0mkey\u001b[0m \u001b[0;32mis\u001b[0m \u001b[0;32mnot\u001b[0m \u001b[0;32mNone\u001b[0m\u001b[0;34m:\u001b[0m\u001b[0;34m\u001b[0m\u001b[0;34m\u001b[0m\u001b[0m\n\u001b[1;32m    864\u001b[0m             \u001b[0;31m# Add key to exclusions\u001b[0m\u001b[0;34m\u001b[0m\u001b[0;34m\u001b[0m\u001b[0m\n",
      "\u001b[0;31mKeyError\u001b[0m: 'CWE'"
     ]
    }
   ],
   "source": [
    "import pandas as pd\n",
    "from pandas.plotting import scatter_matrix\n",
    "#import seaborn as sns\n",
    "#import matplotlib.pyplot as plt\n",
    "\n",
    "datalist = []\n",
    "data = pd.read_csv(\"cve_cwe.csv\")\n",
    "data.describe()\n",
    "cweplot = data.groupby('CWE')['CVE'].count()\n",
    "\n",
    "#sns.factorplot(x=\"CWE\", y =\"Num\", data=data, kind=\"bar\", size=3)\n",
    "#plt.show()\n",
    "#%matplotlib inline\n",
    "#cweplot.plot(kind='bar', stacked=True, title=\"The title of my graph\")\n",
    "\n",
    "#scatter_matrix(data)\n",
    "#data['CWE'].value_counts()\n",
    "#uniques = pd.unique(data['CWE'])\n",
    "#with open(\"cwedata.csv\", \"w+\") as fcsv:\n",
    "#    writef =  csv.writer(fcsv)\n",
    "#    for i in uniques:\n",
    "#        writef.writerow([data.groupby('CWE')['CVE'].count()[i], i])\n",
    "#print (summ)"
   ]
  },
  {
   "cell_type": "code",
   "execution_count": 20,
   "metadata": {},
   "outputs": [
    {
     "name": "stdout",
     "output_type": "stream",
     "text": [
      "CWE-259: Use of Hard-coded Password\n"
     ]
    }
   ],
   "source": [
    "from selenium import webdriver\n",
    "from bs4 import BeautifulSoup\n",
    "from pyvirtualdisplay import Display\n",
    "\n",
    "display = Display(visible=0, size=(800, 600))\n",
    "display.start()\n",
    "driver = webdriver.Chrome(\"/home/revo/chrome-driver/chromedriver\")\n",
    "\n",
    "# List to store CWE-Names\n",
    "cwe_names = []\n",
    "\n",
    "driver.get(\"https://cwe.mitre.org/data/definitions/259.html\")\n",
    "\n",
    "content = driver.page_source\n",
    "soup = BeautifulSoup(content)\n",
    "for div in soup.findAll('div', attrs={'style':'overflow:auto;'}):\n",
    "    print(div.h2.string)\n"
   ]
  },
  {
   "cell_type": "code",
   "execution_count": 61,
   "metadata": {},
   "outputs": [],
   "source": [
    "import csv\n",
    "import re\n",
    "\n",
    "iotList = []\n",
    "icsList = []\n",
    "common  = []\n",
    "\n",
    "iot_f = open(\"iot_cwedata.csv\", \"r\")\n",
    "ics_f = open(\"ics_cwedata.csv\", \"r\")\n",
    "diff_iot = open(\"iot_diff\", \"w+\")\n",
    "diff_ics = open(\"ics_diff\", \"w+\")\n",
    "iot = csv.reader(iot_f)\n",
    "ics = csv.reader(ics_f)\n",
    "\n",
    "for i in ics:\n",
    "    icsList.append(i[1])\n",
    "for j in iot:\n",
    "    iotList.append(j[1])\n",
    "\n",
    "for k in list(set(iotList).difference(icsList)):\n",
    "    diff_iot.writelines([k, '\\n'])"
   ]
  }
 ],
 "metadata": {
  "interpreter": {
   "hash": "916dbcbb3f70747c44a77c7bcd40155683ae19c65e1c03b4aa3499c5328201f1"
  },
  "kernelspec": {
   "display_name": "Python 3.8.10 64-bit",
   "name": "python3"
  },
  "language_info": {
   "codemirror_mode": {
    "name": "ipython",
    "version": 3
   },
   "file_extension": ".py",
   "mimetype": "text/x-python",
   "name": "python",
   "nbconvert_exporter": "python",
   "pygments_lexer": "ipython3",
   "version": "3.8.10"
  }
 },
 "nbformat": 4,
 "nbformat_minor": 2
}
