{
 "cells": [
  {
   "cell_type": "code",
   "execution_count": 1,
   "metadata": {},
   "outputs": [
    {
     "data": {
      "text/plain": [
       "'non_embedded = open(\"non_embedded.txt\", \"w+\")\\narray = []\\nwith open(\"filtredCVEs.txt\", \"r\") as fcve:\\n    ff = fcve.readlines()\\n    for i in range(len(ff)):\\n        array.append(ff[i].strip())\\n    for entry in uniqFoundCves:\\n        if entry not in array:\\n            non_embedded.write(entry+\\'\\n\\')'"
      ]
     },
     "execution_count": 1,
     "metadata": {},
     "output_type": "execute_result"
    }
   ],
   "source": [
    "#!/usr/bin/env python\n",
    "\n",
    "import re\n",
    "import json\n",
    "from selenium import webdriver\n",
    "from selenium.webdriver.chrome.service import Service\n",
    "from bs4 import BeautifulSoup\n",
    "from pyvirtualdisplay import Display\n",
    "import csv\n",
    "\n",
    "#---------------------- ----------------------------- -------------\n",
    "# Prevent chrome browser from opening while browsing \n",
    "display = Display(visible=0, size=(800, 600))\n",
    "display.start()\n",
    "# Set up webdriver with chrome engine \n",
    "s=Service(\"/home/revo/chromedriver/chromedriver\")\n",
    "driver = webdriver.Chrome(service=s)\n",
    "#driver = webdriver.Chrome(\"/home/revo/chromedriver/chromedriver\")\n",
    "\n",
    "#----------------------------------------------------------------------------\n",
    "\n",
    "# IIoT devices manufacturing companies\n",
    "iiot_list = ('Linx', 'Johnson', 'GridConnect', 'Impinj')\n",
    "\n",
    "# ICS devices manufacturing companies\n",
    "ics_list = ('GE Digital', 'Bosch', 'Siemens', 'Mitsubishi', 'Schneider', 'ABB', 'Schweitzer', 'General Electric', 'Wind River')\n",
    "\n",
    "#test\n",
    "test_list = [\"Asus RT-N10+ D1 router\", \"Huawei Quidway switches\", \"SerVision HVG Video Gateway\", \n",
    "            \"D-Link\", \"DIR-645 Wired/Wireless Router\", \"Zhone GPON 2520\", \"Dell SonicWALL Secure Remote Access\",\n",
    "            \"AirLive BU-2015\", \"ASUS RT-G32 routers\", \"AirTies\", \"Alcatel-Lucent OmniSwitch\", \"ANTlabs InnGate\",\n",
    "            \"Grandstream GXV3611_HD camera\", \"Actiontec GT784WN modems\"]\n",
    "\n",
    "# IoT devices manufacturing companies\n",
    "iot_list = ('Amazon Echo', 'Google Home', 'Verizon', 'digi', 'Particle', 'SmartCare', 'Edimax', 'ZigBee', 'Z-Wave', 'E2 Max', 'E7 Beacon', 'P1 Plus', 'August Doorbell', 'August Smart', 'Kuri Mobile', 'Belkin WeMo', 'Footbot Air', 'Nest Smoke', 'Nest T3021US', 'Philips Hue', 'Bitdefender BOX', 'Ring Doorbell', 'WeMo Insight', 'Logitech Harmony', 'Particle Photon', 'NETGEAR Orbi', 'Canary', 'Cinder', 'Nespresso Prodigio', 'Netatmo', 'Samsung SmartThings', 'Sonos', 'Wink', 'Apple Watch', 'Garmin Forerunner', 'Peloton', 'Google Cardboard', 'Samsung Gear')\n",
    "\n",
    "\n",
    "\n",
    "embedded_systems = iiot_list+ics_list+iot_list\n",
    "embedded_iot = iot_list\n",
    "embedded_ics = ics_list\n",
    "embedded_iiot = iiot_list\n",
    "\n",
    "cve_id = \"\" # Points to the CVE where the word is found\n",
    "foundCves = [] # Stores the found CVEs using the word lists\n",
    "\n",
    "# The delimiter of CVEs in cve.txt\n",
    "delim = '======================================================' \n",
    "\n",
    "\n",
    "\n",
    "'''non_embedded = open(\"non_embedded.txt\", \"w+\")\n",
    "array = []\n",
    "with open(\"filtredCVEs.txt\", \"r\") as fcve:\n",
    "    ff = fcve.readlines()\n",
    "    for i in range(len(ff)):\n",
    "        array.append(ff[i].strip())\n",
    "    for entry in uniqFoundCves:\n",
    "        if entry not in array:\n",
    "            non_embedded.write(entry+'\\n')'''\n",
    "\n",
    "\n"
   ]
  },
  {
   "cell_type": "code",
   "execution_count": 12,
   "metadata": {},
   "outputs": [
    {
     "name": "stdout",
     "output_type": "stream",
     "text": [
      "2776\n"
     ]
    }
   ],
   "source": [
    "#---------------------------------------------------------------\n",
    "with open(\"cve.txt\", \"r\") as file:\n",
    "    lines = file.readlines()\n",
    "    for i in range(0, len(lines)):\n",
    "        if re.search(delim, lines[i]):\n",
    "            cve_id = lines[i+1]\n",
    "        for word in test_list:\n",
    "            if re.search(\"Reference:\", lines[i]):\n",
    "                break                   \n",
    "            elif re.search(r'\\b'+word+r'\\b', lines[i]):\n",
    "                # Store CVES in foundCves array\n",
    "                foundCves.append(cve_id[6:-1])\n",
    "                break\n",
    "uniqFoundCves = list(dict.fromkeys(foundCves))\n",
    "print(len(uniqFoundCves))\n"
   ]
  },
  {
   "cell_type": "code",
   "execution_count": 11,
   "metadata": {},
   "outputs": [
    {
     "name": "stdout",
     "output_type": "stream",
     "text": [
      "{'CVE-2015-0982': 'CWE-119', 'CVE-2015-0996': 'CWE-200', 'CVE-2015-0997': 'CWE-200', 'CVE-2015-0998': 'CWE-200', 'CVE-2015-0999': 'CWE-200', 'CVE-2015-1009': 'CWE-200', 'CVE-2015-1014': 'CWE-427', 'CVE-2015-1048': 'NVD-CWE-Other', 'CVE-2015-1049': 'CWE-20', 'CVE-2015-1355': 'CWE-310', 'CVE-2015-1356': 'CWE-264', 'CVE-2015-1357': 'CWE-200', 'CVE-2015-1358': 'CWE-310', 'CVE-2015-1448': 'CWE-264', 'CVE-2015-1449': 'CWE-119', 'CVE-2015-1594': 'NVD-CWE-Other', 'CVE-2015-1595': 'CWE-200', 'CVE-2015-1596': 'CWE-310', 'CVE-2015-1597': 'CWE-94', 'CVE-2015-1598': 'CWE-200', 'CVE-2015-1599': 'CWE-264', 'CVE-2015-1600': 'CWE-200', 'CVE-2015-1601': 'CWE-254', 'CVE-2015-1602': 'CWE-200', 'CVE-2015-1628': 'CWE-79', 'CVE-2015-1851': 'CWE-200', 'CVE-2015-2177': 'CWE-20', 'CVE-2015-2822': 'CWE-20', 'CVE-2015-2823': 'CWE-287', 'CVE-2015-3610': 'CWE-310', 'CVE-2015-3938': 'CWE-399', 'CVE-2015-3940': 'CWE-22', 'CVE-2015-3962': 'CWE-200', 'CVE-2015-3963': 'CWE-330', 'CVE-2015-3974': 'CWE-255', 'CVE-2015-3977': 'CWE-119', 'CVE-2015-4174': 'CWE-79', 'CVE-2015-5084': 'CWE-200', 'CVE-2015-5162': 'CWE-399', 'CVE-2015-5386': 'CWE-20', 'CVE-2015-5537': 'CWE-310', 'CVE-2015-5653': 'CWE-119', 'CVE-2015-5698': 'CWE-352', 'CVE-2015-5717': 'CWE-310', 'CVE-2015-6244': 'CWE-20', 'CVE-2015-6456': 'NVD-CWE-Other', 'CVE-2015-6459': 'CWE-22', 'CVE-2015-6461': 'CWE-20', 'CVE-2015-6462': 'CWE-79', 'CVE-2015-6485': 'CWE-200', 'CVE-2015-6675': 'CWE-284', 'CVE-2015-6929': 'CWE-79', 'CVE-2015-6970': 'CWE-91', 'CVE-2015-7374': 'CWE-20', 'CVE-2015-7375': 'CWE-20', 'CVE-2015-7836': 'CWE-200', 'CVE-2015-7918': 'CWE-119', 'CVE-2015-7937': 'CWE-119', 'CVE-2015-8561': 'CWE-119', 'CVE-2015-8732': 'CWE-20', 'CVE-2016-0861': 'CWE-77', 'CVE-2016-0862': 'CWE-200', 'CVE-2016-10863': 'CWE-352', 'CVE-2016-1488': 'CWE-79', 'CVE-2016-20009': 'CWE-787', 'CVE-2016-2084': 'CWE-200', 'CVE-2016-2200': 'CWE-20', 'CVE-2016-2201': 'CWE-20', 'CVE-2016-2278': 'CWE-284', 'CVE-2016-2281': 'CWE-264', 'CVE-2016-2310': 'CWE-798', 'CVE-2016-2398': 'CWE-254', 'CVE-2016-2846': 'CWE-254', 'CVE-2016-3155': 'CWE-200', 'CVE-2016-3949': 'CWE-399', 'CVE-2016-3963': 'NVD-CWE-Other', 'CVE-2016-4507': 'CWE-89', 'CVE-2016-4508': 'CWE-79', 'CVE-2016-4511': 'CWE-310', 'CVE-2016-4513': 'CWE-79', 'CVE-2016-4516': 'CWE-200', 'CVE-2016-4520': 'NVD-CWE-Other', 'CVE-2016-4524': 'CWE-284', 'CVE-2016-4526': 'CWE-427', 'CVE-2016-4527': 'CWE-255', 'CVE-2016-4529': 'NVD-CWE-noinfo', 'CVE-2016-5084': 'CWE-310', 'CVE-2016-5085': 'CWE-330', 'CVE-2016-5086': 'CWE-287', 'CVE-2016-5686': 'CWE-287', 'CVE-2016-5743': 'CWE-20', 'CVE-2016-5744': 'CWE-200', 'CVE-2016-5787': 'CWE-284', 'CVE-2016-5788': 'CWE-285', 'CVE-2016-5809': 'CWE-352', 'CVE-2016-5815': 'CWE-284', 'CVE-2016-5818': 'CWE-798', 'CVE-2016-5848': 'CWE-200', 'CVE-2016-5849': 'CWE-200', 'CVE-2016-5874': 'CWE-20', 'CVE-2016-6204': 'CWE-79', 'CVE-2016-6486': 'CWE-264', 'CVE-2016-7090': 'CWE-200', 'CVE-2016-7812': 'CWE-310', 'CVE-2016-7959': 'CWE-254', 'CVE-2016-7960': 'CWE-200', 'CVE-2016-7987': 'CWE-19', 'CVE-2016-8352': 'CWE-119', 'CVE-2016-8354': 'CWE-94', 'CVE-2016-8367': 'CWE-400', 'CVE-2016-8368': 'CWE-662', 'CVE-2016-8370': 'CWE-327', 'CVE-2016-8374': 'CWE-400', 'CVE-2016-8561': 'CWE-264', 'CVE-2016-8562': 'CWE-20', 'CVE-2016-8563': 'CWE-20', 'CVE-2016-8564': 'CWE-89', 'CVE-2016-8565': 'CWE-284', 'CVE-2016-8566': 'CWE-255', 'CVE-2016-8567': 'CWE-798', 'CVE-2016-9154': 'CWE-332', 'CVE-2016-9156': 'CWE-284', 'CVE-2016-9157': 'CWE-284', 'CVE-2016-9360': 'CWE-200', 'CVE-2017-12069': 'CWE-611', 'CVE-2017-12104': 'CWE-190', 'CVE-2017-12734': 'CWE-895', 'CVE-2017-12737': 'CWE-200', 'CVE-2017-12738': 'CWE-79', 'CVE-2017-12739': 'CWE-1188', 'CVE-2017-12740': 'CWE-345', 'CVE-2017-13903': 'NVD-CWE-noinfo', 'CVE-2017-13997': 'CWE-306', 'CVE-2017-14018': 'CWE-287', 'CVE-2017-14023': 'CWE-20', 'CVE-2017-14024': 'CWE-119', 'CVE-2017-14025': 'CWE-20', 'CVE-2017-14797': 'CWE-326', 'CVE-2017-15312': 'CWE-79', 'CVE-2017-15313': 'CWE-74', 'CVE-2017-15583': 'CWE-200', 'CVE-2017-16731': 'CWE-522', 'CVE-2017-17860': 'CWE-20', 'CVE-2017-17888': 'CWE-78', 'CVE-2017-18868': 'CWE-276', 'CVE-2017-2682': 'CWE-352', 'CVE-2017-2683': 'CWE-79', 'CVE-2017-2684': 'NVD-CWE-noinfo', 'CVE-2017-2685': 'CWE-200', 'CVE-2017-2686': 'CWE-200', 'CVE-2017-2687': 'CWE-79', 'CVE-2017-2688': 'CWE-352', 'CVE-2017-2689': 'CWE-287', 'CVE-2017-5155': 'CWE-1188', 'CVE-2017-5156': 'CWE-352', 'CVE-2017-5157': 'CWE-79', 'CVE-2017-5158': 'CWE-200', 'CVE-2017-5160': 'CWE-326', 'CVE-2017-5178': 'CWE-1188', 'CVE-2017-5249': 'CWE-922', 'CVE-2017-6017': 'CWE-400', 'CVE-2017-6019': 'CWE-400', 'CVE-2017-6021': 'CWE-20', 'CVE-2017-6026': 'CWE-330', 'CVE-2017-6028': 'CWE-522', 'CVE-2017-6030': 'CWE-331', 'CVE-2017-6032': 'CWE-358', 'CVE-2017-6033': 'CWE-427', 'CVE-2017-6034': 'CWE-287', 'CVE-2017-6864': 'CWE-79', 'CVE-2017-6866': 'NVD-CWE-noinfo', 'CVE-2017-6867': 'CWE-20', 'CVE-2017-6868': 'CWE-287', 'CVE-2017-6869': 'NVD-CWE-noinfo', 'CVE-2017-6870': 'NVD-CWE-noinfo', 'CVE-2017-6871': 'CWE-287', 'CVE-2017-6872': 'CWE-668', 'CVE-2017-6873': 'NVD-CWE-noinfo', 'CVE-2017-7574': 'CWE-798', 'CVE-2017-7575': 'CWE-200', 'CVE-2017-7689': 'CWE-77', 'CVE-2017-7906': 'CWE-352', 'CVE-2017-7907': 'CWE-611', 'CVE-2017-7916': 'CWE-269', 'CVE-2017-7920': 'CWE-287', 'CVE-2017-7928': 'NVD-CWE-noinfo', 'CVE-2017-7931': 'CWE-287', 'CVE-2017-7933': 'CWE-522', 'CVE-2017-7965': 'CWE-119', 'CVE-2017-7966': 'CWE-427', 'CVE-2017-7967': 'CWE-119', 'CVE-2017-7968': 'CWE-276', 'CVE-2017-7969': 'CWE-352', 'CVE-2017-7970': 'NVD-CWE-noinfo', 'CVE-2017-7971': 'CWE-295', 'CVE-2017-7972': 'NVD-CWE-noinfo', 'CVE-2017-7973': 'CWE-89', 'CVE-2017-7974': 'CWE-22', 'CVE-2017-8371': 'CWE-522', 'CVE-2017-9627': 'CWE-400', 'CVE-2017-9629': 'CWE-119', 'CVE-2017-9631': 'CWE-476', 'CVE-2017-9634': 'CWE-787', 'CVE-2017-9635': 'CWE-326', 'CVE-2017-9636': 'CWE-119', 'CVE-2017-9637': 'CWE-522', 'CVE-2017-9638': 'CWE-119', 'CVE-2017-9664': 'CWE-22', 'CVE-2017-9938': 'CWE-20', 'CVE-2017-9939': 'CWE-287', 'CVE-2017-9940': 'CWE-269', 'CVE-2017-9941': 'NVD-CWE-noinfo', 'CVE-2017-9942': 'NVD-CWE-noinfo', 'CVE-2017-9944': 'CWE-269', 'CVE-2017-9945': 'CWE-20', 'CVE-2017-9946': 'CWE-287', 'CVE-2017-9947': 'CWE-22', 'CVE-2017-9956': 'CWE-798', 'CVE-2017-9957': 'CWE-798', 'CVE-2017-9958': 'CWE-732', 'CVE-2017-9959': 'NVD-CWE-noinfo', 'CVE-2017-9960': 'CWE-200', 'CVE-2017-9961': 'NVD-CWE-noinfo', 'CVE-2017-9962': 'CWE-119', 'CVE-2017-9963': 'CWE-352', 'CVE-2017-9964': 'CWE-22', 'CVE-2017-9965': 'CWE-22', 'CVE-2017-9966': 'NVD-CWE-noinfo', 'CVE-2017-9967': 'NVD-CWE-noinfo', 'CVE-2017-9968': 'CWE-295', 'CVE-2017-9969': 'CWE-522', 'CVE-2017-9970': 'CWE-434', 'CVE-2018-10569': 'CWE-79', 'CVE-2018-10616': 'CWE-20', 'CVE-2018-10619': 'CWE-428', 'CVE-2018-10624': 'CWE-388', 'CVE-2018-11316': 'CWE-20', 'CVE-2018-11450': 'CWE-79', 'CVE-2018-1168': 'CWE-732', 'CVE-2018-12716': 'CWE-200', 'CVE-2018-14805': 'CWE-287', 'CVE-2018-15720': 'CWE-798', 'CVE-2018-15721': 'CWE-287', 'CVE-2018-15722': 'CWE-78', 'CVE-2018-15723': 'NVD-CWE-noinfo', 'CVE-2018-16561': 'NVD-CWE-noinfo', 'CVE-2018-16994': 'NVD-CWE-noinfo', 'CVE-2018-18995': 'CWE-306', 'CVE-2018-18997': 'CWE-79', 'CVE-2018-19008': 'CWE-20', 'CVE-2018-19036': 'CWE-119', 'CVE-2018-19111': 'CWE-319', 'CVE-2018-19628': 'CWE-369', 'CVE-2018-19982': 'CWE-295', 'CVE-2018-19983': 'CWE-330', 'CVE-2018-20299': 'CWE-119', 'CVE-2018-20720': 'CWE-20', 'CVE-2018-20960': 'NVD-CWE-noinfo', 'CVE-2018-3856': 'CWE-88', 'CVE-2018-3863': 'CWE-119', 'CVE-2018-3864': 'CWE-119', 'CVE-2018-3865': 'CWE-119', 'CVE-2018-3867': 'CWE-787', 'CVE-2018-3872': 'CWE-119', 'CVE-2018-3873': 'CWE-119', 'CVE-2018-3874': 'CWE-119', 'CVE-2018-3875': 'CWE-119', 'CVE-2018-3876': 'CWE-119', 'CVE-2018-3877': 'CWE-119', 'CVE-2018-3878': 'CWE-119', 'CVE-2018-3879': 'CWE-89', 'CVE-2018-3880': 'CWE-787', 'CVE-2018-3902': 'CWE-119', 'CVE-2018-3903': 'CWE-119', 'CVE-2018-3904': 'CWE-119', 'CVE-2018-3905': 'CWE-119', 'CVE-2018-3907': 'CWE-444', 'CVE-2018-3908': 'CWE-444', 'CVE-2018-3909': 'CWE-444', 'CVE-2018-3911': 'CWE-113', 'CVE-2018-3912': 'CWE-119', 'CVE-2018-3913': 'CWE-787', 'CVE-2018-3914': 'CWE-787', 'CVE-2018-3915': 'CWE-787', 'CVE-2018-3916': 'CWE-787', 'CVE-2018-3917': 'CWE-119', 'CVE-2018-3926': 'CWE-191', 'CVE-2018-3927': 'CWE-295', 'CVE-2018-4841': 'CWE-287', 'CVE-2018-4843': 'CWE-20', 'CVE-2018-4844': 'CWE-269', 'CVE-2018-4845': 'CWE-269', 'CVE-2018-4846': 'CWE-798', 'CVE-2018-4847': 'CWE-311', 'CVE-2018-4849': 'CWE-295', 'CVE-2018-4858': 'NVD-CWE-noinfo', 'CVE-2018-5303': 'CWE-79', 'CVE-2018-5304': 'CWE-601', 'CVE-2018-5477': 'CWE-200', 'CVE-2018-7227': 'CWE-200', 'CVE-2018-7228': 'CWE-287', 'CVE-2018-7229': 'CWE-798', 'CVE-2018-7230': 'CWE-611', 'CVE-2018-7231': 'CWE-20', 'CVE-2018-7232': 'CWE-20', 'CVE-2018-7233': 'CWE-20', 'CVE-2018-7234': 'CWE-295', 'CVE-2018-7235': 'CWE-20', 'CVE-2018-7236': 'CWE-287', 'CVE-2018-7237': 'CWE-20', 'CVE-2018-7238': 'CWE-119', 'CVE-2018-7239': 'CWE-426', 'CVE-2018-7240': 'CWE-787', 'CVE-2018-7241': 'CWE-798', 'CVE-2018-7242': 'CWE-326', 'CVE-2018-7243': 'NVD-CWE-noinfo', 'CVE-2018-7244': 'CWE-200', 'CVE-2018-7245': 'CWE-863', 'CVE-2018-7246': 'CWE-319', 'CVE-2018-7522': 'NVD-CWE-noinfo', 'CVE-2018-7580': 'NVD-CWE-noinfo', 'CVE-2018-7758': 'CWE-613', 'CVE-2018-7759': 'CWE-119', 'CVE-2018-7760': 'CWE-287', 'CVE-2018-7761': 'CWE-20', 'CVE-2018-7762': 'CWE-119', 'CVE-2018-7763': 'CWE-22', 'CVE-2018-7764': 'CWE-22', 'CVE-2018-7765': 'CWE-89', 'CVE-2018-7766': 'CWE-89', 'CVE-2018-7767': 'CWE-89', 'CVE-2018-7768': 'CWE-89', 'CVE-2018-7769': 'CWE-89', 'CVE-2018-7770': 'CWE-22', 'CVE-2018-7771': 'CWE-22', 'CVE-2018-7772': 'CWE-89', 'CVE-2018-7773': 'CWE-89', 'CVE-2018-7774': 'CWE-89', 'CVE-2018-7776': 'CWE-200', 'CVE-2018-7777': 'CWE-20', 'CVE-2018-7778': 'CWE-306', 'CVE-2018-7779': 'NVD-CWE-noinfo', 'CVE-2018-7780': 'CWE-119', 'CVE-2018-7781': 'CWE-311', 'CVE-2018-7782': 'CWE-522', 'CVE-2018-7783': 'CWE-611', 'CVE-2018-7784': 'CWE-20', 'CVE-2018-7785': 'CWE-77', 'CVE-2018-7786': 'CWE-79', 'CVE-2018-7787': 'CWE-20', 'CVE-2018-7789': 'CWE-754', 'CVE-2018-7790': 'CWE-294', 'CVE-2018-7791': 'CWE-862', 'CVE-2018-7792': 'CWE-862', 'CVE-2018-7795': 'CWE-79', 'CVE-2018-7799': 'CWE-427', 'CVE-2018-7813': 'CWE-704', 'CVE-2018-7814': 'CWE-787', 'CVE-2018-7815': 'CWE-704', 'CVE-2018-7824': 'CWE-610', 'CVE-2018-8872': 'CWE-119', 'CVE-2019-10938': 'NVD-CWE-Other', 'CVE-2019-10953': 'CWE-770', 'CVE-2019-10972': 'CWE-770', 'CVE-2019-10976': 'CWE-611', 'CVE-2019-10977': 'CWE-755', 'CVE-2019-10995': 'CWE-798', 'CVE-2019-11486': 'CWE-362', 'CVE-2019-11601': 'CWE-22', 'CVE-2019-11602': 'CWE-209', 'CVE-2019-11603': 'CWE-22', 'CVE-2019-11684': 'CWE-306', 'CVE-2019-11891': 'CWE-269', 'CVE-2019-11892': 'NVD-CWE-Other', 'CVE-2019-11893': 'CWE-269', 'CVE-2019-11894': 'NVD-CWE-Other', 'CVE-2019-11895': 'NVD-CWE-Other', 'CVE-2019-11896': 'CWE-269', 'CVE-2019-11897': 'CWE-918', 'CVE-2019-11898': 'CWE-798', 'CVE-2019-11899': 'NVD-CWE-Other', 'CVE-2019-12255': 'CWE-191', 'CVE-2019-12256': 'CWE-787', 'CVE-2019-12257': 'CWE-787', 'CVE-2019-12258': 'CWE-384', 'CVE-2019-12259': 'CWE-476', 'CVE-2019-12260': 'CWE-787', 'CVE-2019-12261': 'CWE-787', 'CVE-2019-12262': 'NVD-CWE-noinfo', 'CVE-2019-12263': 'CWE-787', 'CVE-2019-12264': 'CWE-88', 'CVE-2019-12265': 'CWE-401', 'CVE-2019-12611': 'CWE-770', 'CVE-2019-12612': 'NVD-CWE-noinfo', 'CVE-2019-13269': 'CWE-20', 'CVE-2019-13270': 'CWE-20', 'CVE-2019-13271': 'NVD-CWE-noinfo', 'CVE-2019-13537': 'CWE-787', 'CVE-2019-13555': 'CWE-400', 'CVE-2019-13934': 'CWE-79', 'CVE-2019-13935': 'CWE-79', 'CVE-2019-13936': 'CWE-79', 'CVE-2019-14925': 'CWE-276', 'CVE-2019-14926': 'CWE-798', 'CVE-2019-14927': 'CWE-425', 'CVE-2019-14928': 'CWE-79', 'CVE-2019-14929': 'CWE-522', 'CVE-2019-14930': 'CWE-798', 'CVE-2019-14931': 'CWE-78', 'CVE-2019-15027': 'CWE-78', 'CVE-2019-15910': 'CWE-20', 'CVE-2019-15911': 'CWE-319', 'CVE-2019-15912': 'CWE-20', 'CVE-2019-15913': 'CWE-639', 'CVE-2019-15914': 'CWE-20', 'CVE-2019-15915': 'CWE-20', 'CVE-2019-17094': 'CWE-787', 'CVE-2019-17095': 'CWE-78', 'CVE-2019-17096': 'CWE-78', 'CVE-2019-17101': 'CWE-77', 'CVE-2019-17102': 'CWE-367', 'CVE-2019-17518': 'CWE-120', 'CVE-2019-18250': 'CWE-287', 'CVE-2019-18994': 'CWE-20', 'CVE-2019-18995': 'CWE-20', 'CVE-2019-18996': 'CWE-426', 'CVE-2019-18997': 'NVD-CWE-noinfo', 'CVE-2019-18998': 'CWE-639', 'CVE-2019-19000': 'CWE-200', 'CVE-2019-19001': 'CWE-1021', 'CVE-2019-19002': 'CWE-79', 'CVE-2019-19003': 'CWE-79', 'CVE-2019-19089': 'CWE-436', 'CVE-2019-19090': 'CWE-311', 'CVE-2019-19091': 'CWE-200', 'CVE-2019-19092': 'CWE-306', 'CVE-2019-19094': 'CWE-89', 'CVE-2019-19095': 'CWE-79', 'CVE-2019-19096': 'CWE-522', 'CVE-2019-19097': 'CWE-326', 'CVE-2019-19104': 'CWE-306', 'CVE-2019-19105': 'CWE-522', 'CVE-2019-19106': 'NVD-CWE-Other', 'CVE-2019-19107': 'CWE-319', 'CVE-2019-19279': 'CWE-20', 'CVE-2019-20480': 'CWE-352', 'CVE-2019-20481': 'CWE-287', 'CVE-2019-3914': 'CWE-78', 'CVE-2019-3915': 'CWE-294', 'CVE-2019-3916': 'CWE-425', 'CVE-2019-5620': 'CWE-306', 'CVE-2019-6528': 'CWE-79', 'CVE-2019-6535': 'CWE-400', 'CVE-2019-6957': 'CWE-787', 'CVE-2019-6958': 'CWE-306', 'CVE-2019-7225': 'CWE-798', 'CVE-2019-7226': 'CWE-287', 'CVE-2019-7227': 'CWE-22', 'CVE-2019-7228': 'CWE-134', 'CVE-2019-7229': 'CWE-494', 'CVE-2019-7230': 'CWE-134', 'CVE-2019-7231': 'CWE-119', 'CVE-2019-7232': 'CWE-787', 'CVE-2019-7589': 'CWE-20', 'CVE-2019-7728': 'CWE-295', 'CVE-2019-7729': 'CWE-732', 'CVE-2019-8951': 'CWE-601', 'CVE-2019-8952': 'CWE-22', 'CVE-2019-9483': 'CWE-327', 'CVE-2019-9865': 'CWE-190', 'CVE-2020-10287': 'CWE-522', 'CVE-2020-11440': 'NVD-CWE-noinfo', 'CVE-2020-11549': 'CWE-798', 'CVE-2020-11550': 'NVD-CWE-noinfo', 'CVE-2020-11551': 'CWE-330', 'CVE-2020-11999': 'CWE-20', 'CVE-2020-12001': 'CWE-20', 'CVE-2020-12003': 'CWE-22', 'CVE-2020-12005': 'CWE-434', 'CVE-2020-12007': 'CWE-502', 'CVE-2020-12009': 'CWE-502', 'CVE-2020-12011': 'CWE-787', 'CVE-2020-12013': 'CWE-89', 'CVE-2020-12015': 'CWE-502', 'CVE-2020-12034': 'CWE-89', 'CVE-2020-12038': 'CWE-787', 'CVE-2020-13238': 'CWE-400', 'CVE-2020-16226': 'CWE-342', 'CVE-2020-16240': 'CWE-639', 'CVE-2020-16244': 'CWE-759', 'CVE-2020-16850': 'CWE-400', 'CVE-2020-17376': 'CWE-611', 'CVE-2020-24685': 'CWE-770', 'CVE-2020-24686': 'CWE-400', 'CVE-2020-26762': 'CWE-787', 'CVE-2020-27251': 'CWE-122', 'CVE-2020-27253': 'CWE-20', 'CVE-2020-27255': 'CWE-122', 'CVE-2020-27263': 'CWE-787', 'CVE-2020-27265': 'CWE-787', 'CVE-2020-27267': 'CWE-787', 'CVE-2020-27483': 'CWE-129', 'CVE-2020-27484': 'CWE-190', 'CVE-2020-27485': 'CWE-129', 'CVE-2020-27486': 'CWE-120', 'CVE-2020-27861': 'CWE-78', 'CVE-2020-28895': 'CWE-190', 'CVE-2020-28952': 'CWE-798', 'CVE-2020-35198': 'CWE-190', 'CVE-2020-5527': 'CWE-400', 'CVE-2020-5531': 'NVD-CWE-noinfo', 'CVE-2020-5542': 'CWE-119', 'CVE-2020-5543': 'CWE-384', 'CVE-2020-5544': 'CWE-476', 'CVE-2020-5545': 'NVD-CWE-Other', 'CVE-2020-5546': 'CWE-88', 'CVE-2020-5547': 'NVD-CWE-noinfo', 'CVE-2020-5594': 'CWE-319', 'CVE-2020-5595': 'CWE-120', 'CVE-2020-5596': 'CWE-384', 'CVE-2020-5597': 'CWE-476', 'CVE-2020-5598': 'NVD-CWE-noinfo', 'CVE-2020-5599': 'CWE-88', 'CVE-2020-5600': 'NVD-CWE-noinfo', 'CVE-2020-5602': 'CWE-611', 'CVE-2020-5603': 'CWE-400', 'CVE-2020-5801': 'CWE-755', 'CVE-2020-5802': 'CWE-755', 'CVE-2020-5806': 'CWE-770', 'CVE-2020-6007': 'CWE-787', 'CVE-2020-6767': 'CWE-22', 'CVE-2020-6768': 'CWE-22', 'CVE-2020-6769': 'CWE-306', 'CVE-2020-6770': 'CWE-502', 'CVE-2020-6771': 'CWE-427', 'CVE-2020-6774': 'CWE-668', 'CVE-2020-6776': 'CWE-352', 'CVE-2020-6777': 'CWE-79', 'CVE-2020-6779': 'CWE-798', 'CVE-2020-6780': 'CWE-916', 'CVE-2020-6781': 'CWE-295', 'CVE-2020-6785': 'CWE-427', 'CVE-2020-6786': 'CWE-427', 'CVE-2020-6787': 'CWE-427', 'CVE-2020-6788': 'CWE-427', 'CVE-2020-6789': 'CWE-427', 'CVE-2020-6790': 'CWE-427', 'CVE-2020-6992': 'CWE-269', 'CVE-2020-7476': 'CWE-426', 'CVE-2020-7520': 'CWE-601', 'CVE-2020-7523': 'CWE-269', 'CVE-2020-7524': 'CWE-787', 'CVE-2020-7579': 'CWE-79', 'CVE-2020-8471': 'CWE-276', 'CVE-2020-8472': 'CWE-732', 'CVE-2020-8473': 'CWE-732', 'CVE-2020-8474': 'CWE-269', 'CVE-2020-8475': 'CWE-20', 'CVE-2020-8476': 'CWE-20', 'CVE-2020-8477': 'CWE-79', 'CVE-2020-8478': 'CWE-74', 'CVE-2020-8479': 'CWE-91', 'CVE-2020-8481': 'CWE-922', 'CVE-2020-8482': 'CWE-922', 'CVE-2020-8484': 'NVD-CWE-Other', 'CVE-2020-8485': 'NVD-CWE-Other', 'CVE-2020-8486': 'NVD-CWE-Other', 'CVE-2020-8487': 'NVD-CWE-Other', 'CVE-2020-8488': 'NVD-CWE-Other', 'CVE-2020-8489': 'NVD-CWE-Other', 'CVE-2020-9044': 'CWE-611', 'CVE-2021-20587': 'CWE-787', 'CVE-2021-20588': 'CWE-755', 'CVE-2021-20591': 'CWE-400', 'CVE-2021-20593': 'CWE-287', 'CVE-2021-20594': 'CWE-200', 'CVE-2021-20595': 'CWE-611', 'CVE-2021-20597': 'CWE-522', 'CVE-2021-20598': 'CWE-287', 'CVE-2021-21266': 'CWE-611', 'CVE-2021-23847': 'CWE-306', 'CVE-2021-23848': 'CWE-79', 'CVE-2021-23852': 'CWE-400', 'CVE-2021-23853': 'CWE-20', 'CVE-2021-23854': 'CWE-79', 'CVE-2021-26845': 'CWE-863', 'CVE-2021-26911': 'CWE-295', 'CVE-2021-27196': 'CWE-20', 'CVE-2021-27657': 'CWE-269', 'CVE-2021-27662': 'CWE-294', 'CVE-2021-27663': 'CWE-863', 'CVE-2021-27887': 'CWE-79', 'CVE-2021-29997': 'CWE-125', 'CVE-2021-29998': 'CWE-787', 'CVE-2021-29999': 'CWE-787', 'CVE-2021-33887': 'CWE-345', 'CVE-2021-35526': 'CWE-863', 'CVE-2021-35527': 'CWE-522', 'CVE-2021-35529': 'CWE-522', 'CVE-2021-37436': 'NVD-CWE-noinfo'}\n"
     ]
    }
   ],
   "source": [
    "#======================================================================\n",
    "\n",
    "cve_cwe_array = {} # Stors all exist {'CVE': 'CWE'} in the json file\n",
    "cwes = [] # Stores the CWE of only CVEs in the uniqFoundCves list\n",
    "non_exist_foundCves = [] # Stors non-defined in NVD CWEs\n",
    "for year in range(2015, 2022):\n",
    "    with open(\"Json_database/nvdcve-1.1-\"+str(year)+\".json\", \"r\") as f:\n",
    "        data = json.load(f)\n",
    "        for i in data['CVE_Items']:\n",
    "            for j in range(0, len(i['cve']['problemtype']['problemtype_data'])):\n",
    "                for k in range(0, len(i['cve']['problemtype']['problemtype_data'][j]['description'])):\n",
    "                    # 'CVE':'CWE'\n",
    "                    if i['cve']['CVE_data_meta']['ID'] in uniqFoundCves:\n",
    "                        cve_cwe_array[i['cve']['CVE_data_meta']['ID']] = i['cve']['problemtype']['problemtype_data'][j]['description'][k]['value']\n",
    "\n",
    "print(cve_cwe_array)"
   ]
  },
  {
   "cell_type": "code",
   "execution_count": 5,
   "metadata": {},
   "outputs": [],
   "source": [
    "non_embedded = open(\"non_embedded.txt\", \"w+\")\n",
    "array = []\n",
    "with open(\"filtredCVEs.txt\", \"r\") as fcve:\n",
    "    ff = fcve.readlines()\n",
    "    for i in range(len(ff)):\n",
    "        array.append(ff[i].strip())\n",
    "    for entry in cvess:\n",
    "        if entry not in array:\n",
    "            non_embedded.write(entry+'\\n')"
   ]
  },
  {
   "cell_type": "code",
   "execution_count": 4,
   "metadata": {},
   "outputs": [],
   "source": [
    "#!usr/bin/python\n",
    "\n",
    "\n",
    "\n",
    "'''for j in cvess:\n",
    "    cvelist.writelines([j, '\\n'])'''\n",
    "#=====================================================================================\n",
    "\n",
    "    #for k in exist:\n",
    "        #print(table[k])\n",
    "\n",
    "#=====================================================================================\n",
    "\n",
    "'''table = {} # Stors all exist {'CVE': 'CWE'} in the json file\n",
    "cwes = [] # Stores the CWE of only CVEs in the cvess list\n",
    "non_exist_cves = [] # Stors non-defined in NVD CWEs\n",
    "\n",
    "with open(\"nvdcve-1.1-2015.json\", \"r\") as f:\n",
    "    data = json.load(f)\n",
    "    for i in data['CVE_Items']:\n",
    "        for j in range(0, len(i['cve']['problemtype']['problemtype_data'])):\n",
    "            for k in range(0, len(i['cve']['problemtype']['problemtype_data'][j]['description'])):\n",
    "                # 'CVE':'CWE'\n",
    "                 table[i['cve']['CVE_data_meta']['ID']] = i['cve']['problemtype']['problemtype_data'][j]['description'][k]['value']\n",
    "    #print(len(table))\n",
    "    for cve in table:\n",
    "        if cve in cvess:\n",
    "            exist_cves.append(cve)\n",
    "    print(len(exist_cves))\n",
    "\n",
    "    noninfo = 0\n",
    "    for cve in cvess:\n",
    "        try:\n",
    "            cwes.append(table[cve])\n",
    "            if re.search('NVD', table[cve]):\n",
    "                noninfo += 1\n",
    "        except KeyError:\n",
    "            non_exist_cves.append(cve)\n",
    "    #print(len(cwes))\n",
    "    #print(noninfo)\n",
    "    #print(len(non_exist_cves))\n",
    "\n",
    "#=======================================================================================================================================\n",
    "\n",
    "with open('cve_cwe.csv', 'w+') as f:\n",
    "    write =  csv.writer(f)\n",
    "    for j in cvess:\n",
    "        try:\n",
    "            driver.get(\"https://cwe.mitre.org/data/definitions/\"+table[j][4:]+\".html\")\n",
    "            content = driver.page_source\n",
    "            soup = (content)\n",
    "            for div in soup.findAll('div', attrs={'style':'overflow:auto;'}):\n",
    "                write.writerow([j, div.h2.string])\n",
    "        except KeyError:BeautifulSoup\n",
    "            continue\n",
    "\n",
    "f.close()\n",
    "'''\n",
    "# Let store the CVEs in an html file to make the parsing more easier\n",
    "link = \"https://nvd.nist.gov/vuln/detail/\"\n",
    "\n",
    "arraylist = []\n",
    "htmlfile = open(\"testhtml.html\", \"w+\")\n",
    "for entry in cvess:\n",
    "    arraylist.append(entry)\n",
    "\n",
    "for value in arraylist:\n",
    "     htmlfile.write('<a href='+link+value+'>'+value+'</a></br>')\n",
    "\n",
    "file.close()\n",
    "\n",
    "#=========================================================================================================================================="
   ]
  },
  {
   "cell_type": "code",
   "execution_count": 7,
   "metadata": {},
   "outputs": [
    {
     "ename": "KeyError",
     "evalue": "'CWE'",
     "output_type": "error",
     "traceback": [
      "\u001b[0;31m---------------------------------------------------------------------------\u001b[0m",
      "\u001b[0;31mKeyError\u001b[0m                                  Traceback (most recent call last)",
      "\u001b[0;32m/tmp/ipykernel_3559/1217416877.py\u001b[0m in \u001b[0;36m<module>\u001b[0;34m\u001b[0m\n\u001b[1;32m      7\u001b[0m \u001b[0mdata\u001b[0m \u001b[0;34m=\u001b[0m \u001b[0mpd\u001b[0m\u001b[0;34m.\u001b[0m\u001b[0mread_csv\u001b[0m\u001b[0;34m(\u001b[0m\u001b[0;34m\"cve_cwe.csv\"\u001b[0m\u001b[0;34m)\u001b[0m\u001b[0;34m\u001b[0m\u001b[0;34m\u001b[0m\u001b[0m\n\u001b[1;32m      8\u001b[0m \u001b[0mdata\u001b[0m\u001b[0;34m.\u001b[0m\u001b[0mdescribe\u001b[0m\u001b[0;34m(\u001b[0m\u001b[0;34m)\u001b[0m\u001b[0;34m\u001b[0m\u001b[0;34m\u001b[0m\u001b[0m\n\u001b[0;32m----> 9\u001b[0;31m \u001b[0mcweplot\u001b[0m \u001b[0;34m=\u001b[0m \u001b[0mdata\u001b[0m\u001b[0;34m.\u001b[0m\u001b[0mgroupby\u001b[0m\u001b[0;34m(\u001b[0m\u001b[0;34m'CWE'\u001b[0m\u001b[0;34m)\u001b[0m\u001b[0;34m[\u001b[0m\u001b[0;34m'CVE'\u001b[0m\u001b[0;34m]\u001b[0m\u001b[0;34m.\u001b[0m\u001b[0mcount\u001b[0m\u001b[0;34m(\u001b[0m\u001b[0;34m)\u001b[0m\u001b[0;34m\u001b[0m\u001b[0;34m\u001b[0m\u001b[0m\n\u001b[0m\u001b[1;32m     10\u001b[0m \u001b[0;34m\u001b[0m\u001b[0m\n\u001b[1;32m     11\u001b[0m \u001b[0;31m#sns.factorplot(x=\"CWE\", y =\"Num\", data=data, kind=\"bar\", size=3)\u001b[0m\u001b[0;34m\u001b[0m\u001b[0;34m\u001b[0m\u001b[0m\n",
      "\u001b[0;32m~/.local/lib/python3.9/site-packages/pandas/core/frame.py\u001b[0m in \u001b[0;36mgroupby\u001b[0;34m(self, by, axis, level, as_index, sort, group_keys, squeeze, observed, dropna)\u001b[0m\n\u001b[1;32m   7629\u001b[0m         \u001b[0;31m# error: Argument \"squeeze\" to \"DataFrameGroupBy\" has incompatible type\u001b[0m\u001b[0;34m\u001b[0m\u001b[0;34m\u001b[0m\u001b[0m\n\u001b[1;32m   7630\u001b[0m         \u001b[0;31m# \"Union[bool, NoDefault]\"; expected \"bool\"\u001b[0m\u001b[0;34m\u001b[0m\u001b[0;34m\u001b[0m\u001b[0m\n\u001b[0;32m-> 7631\u001b[0;31m         return DataFrameGroupBy(\n\u001b[0m\u001b[1;32m   7632\u001b[0m             \u001b[0mobj\u001b[0m\u001b[0;34m=\u001b[0m\u001b[0mself\u001b[0m\u001b[0;34m,\u001b[0m\u001b[0;34m\u001b[0m\u001b[0;34m\u001b[0m\u001b[0m\n\u001b[1;32m   7633\u001b[0m             \u001b[0mkeys\u001b[0m\u001b[0;34m=\u001b[0m\u001b[0mby\u001b[0m\u001b[0;34m,\u001b[0m\u001b[0;34m\u001b[0m\u001b[0;34m\u001b[0m\u001b[0m\n",
      "\u001b[0;32m~/.local/lib/python3.9/site-packages/pandas/core/groupby/groupby.py\u001b[0m in \u001b[0;36m__init__\u001b[0;34m(self, obj, keys, axis, level, grouper, exclusions, selection, as_index, sort, group_keys, squeeze, observed, mutated, dropna)\u001b[0m\n\u001b[1;32m    887\u001b[0m             \u001b[0;32mfrom\u001b[0m \u001b[0mpandas\u001b[0m\u001b[0;34m.\u001b[0m\u001b[0mcore\u001b[0m\u001b[0;34m.\u001b[0m\u001b[0mgroupby\u001b[0m\u001b[0;34m.\u001b[0m\u001b[0mgrouper\u001b[0m \u001b[0;32mimport\u001b[0m \u001b[0mget_grouper\u001b[0m\u001b[0;34m\u001b[0m\u001b[0;34m\u001b[0m\u001b[0m\n\u001b[1;32m    888\u001b[0m \u001b[0;34m\u001b[0m\u001b[0m\n\u001b[0;32m--> 889\u001b[0;31m             grouper, exclusions, obj = get_grouper(\n\u001b[0m\u001b[1;32m    890\u001b[0m                 \u001b[0mobj\u001b[0m\u001b[0;34m,\u001b[0m\u001b[0;34m\u001b[0m\u001b[0;34m\u001b[0m\u001b[0m\n\u001b[1;32m    891\u001b[0m                 \u001b[0mkeys\u001b[0m\u001b[0;34m,\u001b[0m\u001b[0;34m\u001b[0m\u001b[0;34m\u001b[0m\u001b[0m\n",
      "\u001b[0;32m~/.local/lib/python3.9/site-packages/pandas/core/groupby/grouper.py\u001b[0m in \u001b[0;36mget_grouper\u001b[0;34m(obj, key, axis, level, sort, observed, mutated, validate, dropna)\u001b[0m\n\u001b[1;32m    860\u001b[0m                 \u001b[0min_axis\u001b[0m\u001b[0;34m,\u001b[0m \u001b[0mlevel\u001b[0m\u001b[0;34m,\u001b[0m \u001b[0mgpr\u001b[0m \u001b[0;34m=\u001b[0m \u001b[0;32mFalse\u001b[0m\u001b[0;34m,\u001b[0m \u001b[0mgpr\u001b[0m\u001b[0;34m,\u001b[0m \u001b[0;32mNone\u001b[0m\u001b[0;34m\u001b[0m\u001b[0;34m\u001b[0m\u001b[0m\n\u001b[1;32m    861\u001b[0m             \u001b[0;32melse\u001b[0m\u001b[0;34m:\u001b[0m\u001b[0;34m\u001b[0m\u001b[0;34m\u001b[0m\u001b[0m\n\u001b[0;32m--> 862\u001b[0;31m                 \u001b[0;32mraise\u001b[0m \u001b[0mKeyError\u001b[0m\u001b[0;34m(\u001b[0m\u001b[0mgpr\u001b[0m\u001b[0;34m)\u001b[0m\u001b[0;34m\u001b[0m\u001b[0;34m\u001b[0m\u001b[0m\n\u001b[0m\u001b[1;32m    863\u001b[0m         \u001b[0;32melif\u001b[0m \u001b[0misinstance\u001b[0m\u001b[0;34m(\u001b[0m\u001b[0mgpr\u001b[0m\u001b[0;34m,\u001b[0m \u001b[0mGrouper\u001b[0m\u001b[0;34m)\u001b[0m \u001b[0;32mand\u001b[0m \u001b[0mgpr\u001b[0m\u001b[0;34m.\u001b[0m\u001b[0mkey\u001b[0m \u001b[0;32mis\u001b[0m \u001b[0;32mnot\u001b[0m \u001b[0;32mNone\u001b[0m\u001b[0;34m:\u001b[0m\u001b[0;34m\u001b[0m\u001b[0;34m\u001b[0m\u001b[0m\n\u001b[1;32m    864\u001b[0m             \u001b[0;31m# Add key to exclusions\u001b[0m\u001b[0;34m\u001b[0m\u001b[0;34m\u001b[0m\u001b[0m\n",
      "\u001b[0;31mKeyError\u001b[0m: 'CWE'"
     ]
    }
   ],
   "source": [
    "import pandas as pd\n",
    "from pandas.plotting import scatter_matrix\n",
    "#import seaborn as sns\n",
    "#import matplotlib.pyplot as plt\n",
    "\n",
    "datalist = []\n",
    "data = pd.read_csv(\"cve_cwe.csv\")\n",
    "data.describe()\n",
    "cweplot = data.groupby('CWE')['CVE'].count()\n",
    "\n",
    "#sns.factorplot(x=\"CWE\", y =\"Num\", data=data, kind=\"bar\", size=3)\n",
    "#plt.show()\n",
    "#%matplotlib inline\n",
    "#cweplot.plot(kind='bar', stacked=True, title=\"The title of my graph\")\n",
    "\n",
    "#scatter_matrix(data)\n",
    "#data['CWE'].value_counts()\n",
    "#uniques = pd.unique(data['CWE'])\n",
    "#with open(\"cwedata.csv\", \"w+\") as fcsv:\n",
    "#    writef =  csv.writer(fcsv)\n",
    "#    for i in uniques:\n",
    "#        writef.writerow([data.groupby('CWE')['CVE'].count()[i], i])\n",
    "#print (summ)"
   ]
  },
  {
   "cell_type": "code",
   "execution_count": 20,
   "metadata": {},
   "outputs": [
    {
     "name": "stdout",
     "output_type": "stream",
     "text": [
      "CWE-259: Use of Hard-coded Password\n"
     ]
    }
   ],
   "source": [
    "from selenium import webdriver\n",
    "from bs4 import BeautifulSoup\n",
    "from pyvirtualdisplay import Display\n",
    "\n",
    "display = Display(visible=0, size=(800, 600))\n",
    "display.start()\n",
    "driver = webdriver.Chrome(\"/home/revo/chrome-driver/chromedriver\")\n",
    "\n",
    "# List to store CWE-Names\n",
    "cwe_names = []\n",
    "\n",
    "driver.get(\"https://cwe.mitre.org/data/definitions/259.html\")\n",
    "\n",
    "content = driver.page_source\n",
    "soup = BeautifulSoup(content)\n",
    "for div in soup.findAll('div', attrs={'style':'overflow:auto;'}):\n",
    "    print(div.h2.string)\n"
   ]
  },
  {
   "cell_type": "code",
   "execution_count": 61,
   "metadata": {},
   "outputs": [],
   "source": [
    "import csv\n",
    "import re\n",
    "\n",
    "iotList = []\n",
    "icsList = []\n",
    "common  = []\n",
    "\n",
    "iot_f = open(\"iot_cwedata.csv\", \"r\")\n",
    "ics_f = open(\"ics_cwedata.csv\", \"r\")\n",
    "diff_iot = open(\"iot_diff\", \"w+\")\n",
    "diff_ics = open(\"ics_diff\", \"w+\")\n",
    "iot = csv.reader(iot_f)\n",
    "ics = csv.reader(ics_f)\n",
    "\n",
    "for i in ics:\n",
    "    icsList.append(i[1])\n",
    "for j in iot:\n",
    "    iotList.append(j[1])\n",
    "\n",
    "for k in list(set(iotList).difference(icsList)):\n",
    "    diff_iot.writelines([k, '\\n'])"
   ]
  }
 ],
 "metadata": {
  "interpreter": {
   "hash": "916dbcbb3f70747c44a77c7bcd40155683ae19c65e1c03b4aa3499c5328201f1"
  },
  "kernelspec": {
   "display_name": "Python 3.8.10 64-bit",
   "name": "python3"
  },
  "language_info": {
   "codemirror_mode": {
    "name": "ipython",
    "version": 3
   },
   "file_extension": ".py",
   "mimetype": "text/x-python",
   "name": "python",
   "nbconvert_exporter": "python",
   "pygments_lexer": "ipython3",
   "version": "3.8.10"
  }
 },
 "nbformat": 4,
 "nbformat_minor": 2
}
